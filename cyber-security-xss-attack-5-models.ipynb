{
 "cells": [
  {
   "cell_type": "markdown",
   "id": "scheduled-armor",
   "metadata": {
    "papermill": {
     "duration": 0.014194,
     "end_time": "2021-07-01T16:07:34.484575",
     "exception": false,
     "start_time": "2021-07-01T16:07:34.470381",
     "status": "completed"
    },
    "tags": []
   },
   "source": [
    "![](https://1tskcg39n5iu1jl9xp2ze2ma-wpengine.netdna-ssl.com/wp-content/uploads/2019/05/cross-site-scripting-example.png)"
   ]
  },
  {
   "cell_type": "markdown",
   "id": "spectacular-transformation",
   "metadata": {
    "papermill": {
     "duration": 0.01262,
     "end_time": "2021-07-01T16:07:34.510468",
     "exception": false,
     "start_time": "2021-07-01T16:07:34.497848",
     "status": "completed"
    },
    "tags": []
   },
   "source": [
    "# Acknowledgements\n",
    "Khalid, Usama (2019), “XSS Attacks Dataset”, Mendeley Data, V1, doi: 10.17632/9jhzmswdfj.1"
   ]
  },
  {
   "cell_type": "code",
   "execution_count": 1,
   "id": "essential-laundry",
   "metadata": {
    "_kg_hide-output": true,
    "execution": {
     "iopub.execute_input": "2021-07-01T16:07:34.540848Z",
     "iopub.status.busy": "2021-07-01T16:07:34.539675Z",
     "iopub.status.idle": "2021-07-01T16:07:44.759218Z",
     "shell.execute_reply": "2021-07-01T16:07:44.759775Z",
     "shell.execute_reply.started": "2021-07-01T15:42:02.512634Z"
    },
    "papermill": {
     "duration": 10.236734,
     "end_time": "2021-07-01T16:07:44.760107",
     "exception": false,
     "start_time": "2021-07-01T16:07:34.523373",
     "status": "completed"
    },
    "tags": []
   },
   "outputs": [
    {
     "name": "stdout",
     "output_type": "stream",
     "text": [
      "Collecting openpyxl\r\n",
      "  Downloading openpyxl-3.0.7-py2.py3-none-any.whl (243 kB)\r\n",
      "\u001b[K     |████████████████████████████████| 243 kB 906 kB/s \r\n",
      "\u001b[?25hCollecting et-xmlfile\r\n",
      "  Downloading et_xmlfile-1.1.0-py3-none-any.whl (4.7 kB)\r\n",
      "Installing collected packages: et-xmlfile, openpyxl\r\n",
      "Successfully installed et-xmlfile-1.1.0 openpyxl-3.0.7\r\n"
     ]
    }
   ],
   "source": [
    "!pip install openpyxl"
   ]
  },
  {
   "cell_type": "code",
   "execution_count": 2,
   "id": "confirmed-bride",
   "metadata": {
    "execution": {
     "iopub.execute_input": "2021-07-01T16:07:44.800184Z",
     "iopub.status.busy": "2021-07-01T16:07:44.799513Z",
     "iopub.status.idle": "2021-07-01T16:07:45.263251Z",
     "shell.execute_reply": "2021-07-01T16:07:45.262433Z",
     "shell.execute_reply.started": "2021-07-01T15:42:09.422828Z"
    },
    "papermill": {
     "duration": 0.485599,
     "end_time": "2021-07-01T16:07:45.263411",
     "exception": false,
     "start_time": "2021-07-01T16:07:44.777812",
     "status": "completed"
    },
    "tags": []
   },
   "outputs": [
    {
     "data": {
      "text/html": [
       "<div>\n",
       "<style scoped>\n",
       "    .dataframe tbody tr th:only-of-type {\n",
       "        vertical-align: middle;\n",
       "    }\n",
       "\n",
       "    .dataframe tbody tr th {\n",
       "        vertical-align: top;\n",
       "    }\n",
       "\n",
       "    .dataframe thead th {\n",
       "        text-align: right;\n",
       "    }\n",
       "</style>\n",
       "<table border=\"1\" class=\"dataframe\">\n",
       "  <thead>\n",
       "    <tr style=\"text-align: right;\">\n",
       "      <th></th>\n",
       "      <th>App Names</th>\n",
       "      <th>Permissions</th>\n",
       "      <th>API Name</th>\n",
       "      <th>Website Name</th>\n",
       "      <th>IP</th>\n",
       "      <th>Location</th>\n",
       "      <th>Label</th>\n",
       "    </tr>\n",
       "  </thead>\n",
       "  <tbody>\n",
       "    <tr>\n",
       "      <th>0</th>\n",
       "      <td>XSSDetector</td>\n",
       "      <td>INTERNET,READ_CONTACTS,ACCESS_FINE_LOCATION,AC...</td>\n",
       "      <td>getDeviceId</td>\n",
       "      <td>http://www.5riversmarketing.com/</td>\n",
       "      <td>104.243.40.3</td>\n",
       "      <td>USA - Florida</td>\n",
       "      <td>Yes</td>\n",
       "    </tr>\n",
       "    <tr>\n",
       "      <th>1</th>\n",
       "      <td>Attackers 2</td>\n",
       "      <td>INTERNET,READ_CONTACTS,ACCESS_FINE_LOCATION,AC...</td>\n",
       "      <td>getSimSerialNumber</td>\n",
       "      <td>http://www.5riversmarketing.com/</td>\n",
       "      <td>104.243.40.3</td>\n",
       "      <td>USA - Florida</td>\n",
       "      <td>Yes</td>\n",
       "    </tr>\n",
       "    <tr>\n",
       "      <th>2</th>\n",
       "      <td>Attackers 3</td>\n",
       "      <td>INTERNET,ACCESS_FINE_LOCATION,ACCESS_COARSE_LO...</td>\n",
       "      <td>Not Sensitive</td>\n",
       "      <td>http://www.5riversmarketing.com/</td>\n",
       "      <td>104.243.40.3</td>\n",
       "      <td>USA - Florida</td>\n",
       "      <td>No</td>\n",
       "    </tr>\n",
       "    <tr>\n",
       "      <th>3</th>\n",
       "      <td>Attackers 4</td>\n",
       "      <td>INTERNET,READ_PHONE_STATE,SEND_SMS</td>\n",
       "      <td>Not Sensitive</td>\n",
       "      <td>http://demo2.5riversmarketing.com/</td>\n",
       "      <td>104.243.40.3</td>\n",
       "      <td>USA - Florida</td>\n",
       "      <td>No</td>\n",
       "    </tr>\n",
       "    <tr>\n",
       "      <th>4</th>\n",
       "      <td>Attackers 5</td>\n",
       "      <td>INTERNET,READ_CONTACTS,READ_PHONE_STATE</td>\n",
       "      <td>Not Sensitive</td>\n",
       "      <td>http://www.5riversmarketing.com/</td>\n",
       "      <td>104.243.40.3</td>\n",
       "      <td>USA - Florida</td>\n",
       "      <td>No</td>\n",
       "    </tr>\n",
       "  </tbody>\n",
       "</table>\n",
       "</div>"
      ],
      "text/plain": [
       "     App Names                                        Permissions  \\\n",
       "0  XSSDetector  INTERNET,READ_CONTACTS,ACCESS_FINE_LOCATION,AC...   \n",
       "1  Attackers 2  INTERNET,READ_CONTACTS,ACCESS_FINE_LOCATION,AC...   \n",
       "2  Attackers 3  INTERNET,ACCESS_FINE_LOCATION,ACCESS_COARSE_LO...   \n",
       "3  Attackers 4                 INTERNET,READ_PHONE_STATE,SEND_SMS   \n",
       "4  Attackers 5            INTERNET,READ_CONTACTS,READ_PHONE_STATE   \n",
       "\n",
       "             API Name                        Website Name            IP  \\\n",
       "0         getDeviceId    http://www.5riversmarketing.com/  104.243.40.3   \n",
       "1  getSimSerialNumber    http://www.5riversmarketing.com/  104.243.40.3   \n",
       "2       Not Sensitive    http://www.5riversmarketing.com/  104.243.40.3   \n",
       "3       Not Sensitive  http://demo2.5riversmarketing.com/  104.243.40.3   \n",
       "4       Not Sensitive    http://www.5riversmarketing.com/  104.243.40.3   \n",
       "\n",
       "        Location Label  \n",
       "0  USA - Florida   Yes  \n",
       "1  USA - Florida   Yes  \n",
       "2  USA - Florida    No  \n",
       "3  USA - Florida    No  \n",
       "4  USA - Florida    No  "
      ]
     },
     "execution_count": 2,
     "metadata": {},
     "output_type": "execute_result"
    }
   ],
   "source": [
    "import pandas as pd\n",
    "import numpy as np\n",
    "\n",
    "df = pd.read_excel(\"../input/xss-attacks-dataset/XSS Attack Dataset with 461 entries.xlsx\")\n",
    "df.head()"
   ]
  },
  {
   "cell_type": "code",
   "execution_count": 3,
   "id": "discrete-appendix",
   "metadata": {
    "execution": {
     "iopub.execute_input": "2021-07-01T16:07:45.313229Z",
     "iopub.status.busy": "2021-07-01T16:07:45.311856Z",
     "iopub.status.idle": "2021-07-01T16:07:45.320416Z",
     "shell.execute_reply": "2021-07-01T16:07:45.320891Z",
     "shell.execute_reply.started": "2021-07-01T15:42:09.750721Z"
    },
    "papermill": {
     "duration": 0.039598,
     "end_time": "2021-07-01T16:07:45.321127",
     "exception": false,
     "start_time": "2021-07-01T16:07:45.281529",
     "status": "completed"
    },
    "tags": []
   },
   "outputs": [
    {
     "name": "stdout",
     "output_type": "stream",
     "text": [
      "Unique values in App Names: 460\n",
      "Unique values in Permissions: 27\n",
      "Unique values in API Name: 39\n",
      "Unique values in Website Name: 446\n",
      "Unique values in IP: 447\n",
      "Unique values in Location: 163\n",
      "Unique values in Label: 2\n"
     ]
    }
   ],
   "source": [
    "print(\"Unique values in App Names:\", len(pd.unique(df['App Names'])))\n",
    "print(\"Unique values in Permissions:\", len(pd.unique(df['Permissions'])))\n",
    "print(\"Unique values in API Name:\", len(pd.unique(df['API Name'])))\n",
    "print(\"Unique values in Website Name:\", len(pd.unique(df['Website Name'])))\n",
    "print(\"Unique values in IP:\", len(pd.unique(df['IP'])))\n",
    "print(\"Unique values in Location:\", len(pd.unique(df['Location'])))\n",
    "print(\"Unique values in Label:\", len(pd.unique(df['Label'])))"
   ]
  },
  {
   "cell_type": "code",
   "execution_count": 4,
   "id": "impressive-asthma",
   "metadata": {
    "execution": {
     "iopub.execute_input": "2021-07-01T16:07:45.366430Z",
     "iopub.status.busy": "2021-07-01T16:07:45.365117Z",
     "iopub.status.idle": "2021-07-01T16:07:46.533834Z",
     "shell.execute_reply": "2021-07-01T16:07:46.534380Z",
     "shell.execute_reply.started": "2021-07-01T15:42:09.767144Z"
    },
    "papermill": {
     "duration": 1.194818,
     "end_time": "2021-07-01T16:07:46.534559",
     "exception": false,
     "start_time": "2021-07-01T16:07:45.339741",
     "status": "completed"
    },
    "tags": []
   },
   "outputs": [
    {
     "data": {
      "text/html": [
       "<div>\n",
       "<style scoped>\n",
       "    .dataframe tbody tr th:only-of-type {\n",
       "        vertical-align: middle;\n",
       "    }\n",
       "\n",
       "    .dataframe tbody tr th {\n",
       "        vertical-align: top;\n",
       "    }\n",
       "\n",
       "    .dataframe thead th {\n",
       "        text-align: right;\n",
       "    }\n",
       "</style>\n",
       "<table border=\"1\" class=\"dataframe\">\n",
       "  <thead>\n",
       "    <tr style=\"text-align: right;\">\n",
       "      <th></th>\n",
       "      <th>App Names</th>\n",
       "      <th>Permissions</th>\n",
       "      <th>API Name</th>\n",
       "      <th>Website Name</th>\n",
       "      <th>IP</th>\n",
       "      <th>Location</th>\n",
       "      <th>Label</th>\n",
       "    </tr>\n",
       "  </thead>\n",
       "  <tbody>\n",
       "    <tr>\n",
       "      <th>0</th>\n",
       "      <td>435</td>\n",
       "      <td>12</td>\n",
       "      <td>16</td>\n",
       "      <td>3</td>\n",
       "      <td>21</td>\n",
       "      <td>148</td>\n",
       "      <td>1</td>\n",
       "    </tr>\n",
       "    <tr>\n",
       "      <th>1</th>\n",
       "      <td>48</td>\n",
       "      <td>12</td>\n",
       "      <td>27</td>\n",
       "      <td>3</td>\n",
       "      <td>21</td>\n",
       "      <td>148</td>\n",
       "      <td>1</td>\n",
       "    </tr>\n",
       "    <tr>\n",
       "      <th>2</th>\n",
       "      <td>49</td>\n",
       "      <td>9</td>\n",
       "      <td>2</td>\n",
       "      <td>3</td>\n",
       "      <td>21</td>\n",
       "      <td>148</td>\n",
       "      <td>0</td>\n",
       "    </tr>\n",
       "    <tr>\n",
       "      <th>3</th>\n",
       "      <td>50</td>\n",
       "      <td>16</td>\n",
       "      <td>2</td>\n",
       "      <td>0</td>\n",
       "      <td>21</td>\n",
       "      <td>148</td>\n",
       "      <td>0</td>\n",
       "    </tr>\n",
       "    <tr>\n",
       "      <th>4</th>\n",
       "      <td>51</td>\n",
       "      <td>13</td>\n",
       "      <td>2</td>\n",
       "      <td>3</td>\n",
       "      <td>21</td>\n",
       "      <td>148</td>\n",
       "      <td>0</td>\n",
       "    </tr>\n",
       "  </tbody>\n",
       "</table>\n",
       "</div>"
      ],
      "text/plain": [
       "   App Names  Permissions  API Name  Website Name  IP  Location  Label\n",
       "0        435           12        16             3  21       148      1\n",
       "1         48           12        27             3  21       148      1\n",
       "2         49            9         2             3  21       148      0\n",
       "3         50           16         2             0  21       148      0\n",
       "4         51           13         2             3  21       148      0"
      ]
     },
     "execution_count": 4,
     "metadata": {},
     "output_type": "execute_result"
    }
   ],
   "source": [
    "from sklearn.preprocessing import LabelEncoder\n",
    "\n",
    "for c in df.columns:\n",
    "    if df[c].dtype=='object': \n",
    "        lbl = LabelEncoder()\n",
    "        lbl.fit(list(df[c].values))\n",
    "        df[c] = lbl.transform(df[c].values)\n",
    "        \n",
    "df.head()        "
   ]
  },
  {
   "cell_type": "code",
   "execution_count": 5,
   "id": "metallic-multimedia",
   "metadata": {
    "execution": {
     "iopub.execute_input": "2021-07-01T16:07:46.579373Z",
     "iopub.status.busy": "2021-07-01T16:07:46.578256Z",
     "iopub.status.idle": "2021-07-01T16:07:46.586975Z",
     "shell.execute_reply": "2021-07-01T16:07:46.586433Z",
     "shell.execute_reply.started": "2021-07-01T15:42:10.146648Z"
    },
    "papermill": {
     "duration": 0.034077,
     "end_time": "2021-07-01T16:07:46.587119",
     "exception": false,
     "start_time": "2021-07-01T16:07:46.553042",
     "status": "completed"
    },
    "tags": []
   },
   "outputs": [
    {
     "data": {
      "text/plain": [
       "Label           1.000000\n",
       "API Name        0.777282\n",
       "App Names       0.075896\n",
       "Permissions     0.034151\n",
       "Website Name    0.029288\n",
       "Location        0.020264\n",
       "IP              0.015536\n",
       "Name: Label, dtype: float64"
      ]
     },
     "execution_count": 5,
     "metadata": {},
     "output_type": "execute_result"
    }
   ],
   "source": [
    "df.corr().abs()['Label'].sort_values(ascending = False)"
   ]
  },
  {
   "cell_type": "markdown",
   "id": "pleased-right",
   "metadata": {
    "papermill": {
     "duration": 0.018045,
     "end_time": "2021-07-01T16:07:46.623825",
     "exception": false,
     "start_time": "2021-07-01T16:07:46.605780",
     "status": "completed"
    },
    "tags": []
   },
   "source": [
    "API Name is very strongly correlated with Label."
   ]
  },
  {
   "cell_type": "markdown",
   "id": "final-kentucky",
   "metadata": {
    "papermill": {
     "duration": 0.017845,
     "end_time": "2021-07-01T16:07:46.659787",
     "exception": false,
     "start_time": "2021-07-01T16:07:46.641942",
     "status": "completed"
    },
    "tags": []
   },
   "source": [
    "# Basic plotting"
   ]
  },
  {
   "cell_type": "code",
   "execution_count": 6,
   "id": "controlled-oklahoma",
   "metadata": {
    "execution": {
     "iopub.execute_input": "2021-07-01T16:07:46.704444Z",
     "iopub.status.busy": "2021-07-01T16:07:46.703696Z",
     "iopub.status.idle": "2021-07-01T16:07:48.158216Z",
     "shell.execute_reply": "2021-07-01T16:07:48.157652Z",
     "shell.execute_reply.started": "2021-07-01T15:57:52.043808Z"
    },
    "papermill": {
     "duration": 1.480404,
     "end_time": "2021-07-01T16:07:48.158360",
     "exception": false,
     "start_time": "2021-07-01T16:07:46.677956",
     "status": "completed"
    },
    "tags": []
   },
   "outputs": [
    {
     "name": "stderr",
     "output_type": "stream",
     "text": [
      "/opt/conda/lib/python3.7/site-packages/pandas/plotting/_matplotlib/tools.py:400: MatplotlibDeprecationWarning: \n",
      "The is_first_col function was deprecated in Matplotlib 3.4 and will be removed two minor releases later. Use ax.get_subplotspec().is_first_col() instead.\n",
      "  if ax.is_first_col():\n"
     ]
    },
    {
     "data": {
      "image/png": "[encoded data removed]",
      "text/plain": [
       "<Figure size 1080x720 with 20 Axes>"
      ]
     },
     "metadata": {
      "needs_background": "light"
     },
     "output_type": "display_data"
    }
   ],
   "source": [
    "import matplotlib.pyplot as plt\n",
    "%matplotlib inline\n",
    "df.hist(layout=(5,4), figsize=(15,10))\n",
    "\n",
    "plt.show()"
   ]
  },
  {
   "cell_type": "markdown",
   "id": "senior-baptist",
   "metadata": {
    "papermill": {
     "duration": 0.018633,
     "end_time": "2021-07-01T16:07:48.196183",
     "exception": false,
     "start_time": "2021-07-01T16:07:48.177550",
     "status": "completed"
    },
    "tags": []
   },
   "source": [
    "# Modelling with different models and stratified k fold "
   ]
  },
  {
   "cell_type": "code",
   "execution_count": 7,
   "id": "exciting-reconstruction",
   "metadata": {
    "execution": {
     "iopub.execute_input": "2021-07-01T16:07:48.240813Z",
     "iopub.status.busy": "2021-07-01T16:07:48.240027Z",
     "iopub.status.idle": "2021-07-01T16:07:48.662925Z",
     "shell.execute_reply": "2021-07-01T16:07:48.662223Z",
     "shell.execute_reply.started": "2021-07-01T15:42:10.161419Z"
    },
    "papermill": {
     "duration": 0.447898,
     "end_time": "2021-07-01T16:07:48.663085",
     "exception": false,
     "start_time": "2021-07-01T16:07:48.215187",
     "status": "completed"
    },
    "tags": []
   },
   "outputs": [],
   "source": [
    "from numpy import mean\n",
    "from numpy import std\n",
    "from sklearn.datasets import make_classification\n",
    "from sklearn.model_selection import cross_val_score\n",
    "from sklearn.model_selection import RepeatedStratifiedKFold\n",
    "from sklearn.linear_model import LogisticRegression\n",
    "from sklearn.neighbors import KNeighborsClassifier\n",
    "from sklearn.tree import DecisionTreeClassifier\n",
    "from sklearn.svm import SVC\n",
    "from sklearn.naive_bayes import GaussianNB\n",
    "from matplotlib import pyplot\n",
    "\n",
    "from sklearn.preprocessing import StandardScaler\n",
    "from sklearn.pipeline import make_pipeline"
   ]
  },
  {
   "cell_type": "markdown",
   "id": "every-sheriff",
   "metadata": {
    "papermill": {
     "duration": 0.019762,
     "end_time": "2021-07-01T16:07:48.702697",
     "exception": false,
     "start_time": "2021-07-01T16:07:48.682935",
     "status": "completed"
    },
    "tags": []
   },
   "source": [
    "# Applying pipeline with scaling variables"
   ]
  },
  {
   "cell_type": "code",
   "execution_count": 8,
   "id": "classified-gardening",
   "metadata": {
    "execution": {
     "iopub.execute_input": "2021-07-01T16:07:48.750548Z",
     "iopub.status.busy": "2021-07-01T16:07:48.749779Z",
     "iopub.status.idle": "2021-07-01T16:07:48.753104Z",
     "shell.execute_reply": "2021-07-01T16:07:48.752551Z",
     "shell.execute_reply.started": "2021-07-01T15:42:10.270706Z"
    },
    "papermill": {
     "duration": 0.031011,
     "end_time": "2021-07-01T16:07:48.753263",
     "exception": false,
     "start_time": "2021-07-01T16:07:48.722252",
     "status": "completed"
    },
    "tags": []
   },
   "outputs": [],
   "source": [
    "# get a list of models to evaluate\n",
    "def get_models():\n",
    "\tmodels = dict()\n",
    "\tmodels['lr'] = make_pipeline(StandardScaler(),LogisticRegression())\n",
    "\tmodels['knn'] = make_pipeline(StandardScaler(),KNeighborsClassifier())\n",
    "\tmodels['cart'] = DecisionTreeClassifier()\n",
    "\tmodels['svm'] = make_pipeline(StandardScaler(),SVC())\n",
    "\tmodels['bayes'] = make_pipeline(StandardScaler(), GaussianNB())\n",
    "\treturn models\n",
    "\n",
    "X = df.drop(['Label'], axis = 1)\n",
    "y = df['Label']"
   ]
  },
  {
   "cell_type": "code",
   "execution_count": 9,
   "id": "empirical-software",
   "metadata": {
    "execution": {
     "iopub.execute_input": "2021-07-01T16:07:48.800273Z",
     "iopub.status.busy": "2021-07-01T16:07:48.799324Z",
     "iopub.status.idle": "2021-07-01T16:07:48.801669Z",
     "shell.execute_reply": "2021-07-01T16:07:48.802249Z",
     "shell.execute_reply.started": "2021-07-01T15:42:10.283246Z"
    },
    "papermill": {
     "duration": 0.028925,
     "end_time": "2021-07-01T16:07:48.802439",
     "exception": false,
     "start_time": "2021-07-01T16:07:48.773514",
     "status": "completed"
    },
    "tags": []
   },
   "outputs": [],
   "source": [
    "# evaluate a given model using cross-validation\n",
    "def evaluate_model(model, X, y):\n",
    "\tcv = RepeatedStratifiedKFold(n_splits=10, n_repeats=3, random_state=1)\n",
    "\tscores = cross_val_score(model, X, y, scoring='accuracy', cv=cv, n_jobs=-1, error_score='raise')\n",
    "\treturn scores"
   ]
  },
  {
   "cell_type": "code",
   "execution_count": 10,
   "id": "equivalent-tucson",
   "metadata": {
    "execution": {
     "iopub.execute_input": "2021-07-01T16:07:48.847910Z",
     "iopub.status.busy": "2021-07-01T16:07:48.847222Z",
     "iopub.status.idle": "2021-07-01T16:07:52.277961Z",
     "shell.execute_reply": "2021-07-01T16:07:52.277405Z",
     "shell.execute_reply.started": "2021-07-01T15:42:10.295499Z"
    },
    "papermill": {
     "duration": 3.454536,
     "end_time": "2021-07-01T16:07:52.278120",
     "exception": false,
     "start_time": "2021-07-01T16:07:48.823584",
     "status": "completed"
    },
    "tags": []
   },
   "outputs": [
    {
     "name": "stdout",
     "output_type": "stream",
     "text": [
      ">lr 0.950 (0.036)\n",
      ">knn 0.859 (0.058)\n",
      ">cart 0.999 (0.008)\n",
      ">svm 0.933 (0.040)\n",
      ">bayes 1.000 (0.000)\n"
     ]
    },
    {
     "data": {
      "image/png": "[encoded data removed]",
      "text/plain": [
       "<Figure size 432x288 with 1 Axes>"
      ]
     },
     "metadata": {
      "needs_background": "light"
     },
     "output_type": "display_data"
    }
   ],
   "source": [
    "# get the models to evaluate\n",
    "models = get_models()\n",
    "# evaluate the models and store results\n",
    "results, names = list(), list()\n",
    "for name, model in models.items():\n",
    "\tscores = evaluate_model(model, X, y)\n",
    "\tresults.append(scores)\n",
    "\tnames.append(name)\n",
    "\tprint('>%s %.3f (%.3f)' % (name, mean(scores), std(scores)))\n",
    "# plot model performance for comparison\n",
    "pyplot.boxplot(results, labels=names, showmeans=True)\n",
    "pyplot.show()"
   ]
  },
  {
   "cell_type": "markdown",
   "id": "contemporary-performance",
   "metadata": {
    "papermill": {
     "duration": 0.021721,
     "end_time": "2021-07-01T16:07:52.322624",
     "exception": false,
     "start_time": "2021-07-01T16:07:52.300903",
     "status": "completed"
    },
    "tags": []
   },
   "source": [
    "# So we can see Naive Bayes gave 100% accuracy.\n",
    "## Then comes Decision Tree classifier with 99.9% accuracy"
   ]
  },
  {
   "cell_type": "markdown",
   "id": "liberal-blade",
   "metadata": {
    "papermill": {
     "duration": 0.020737,
     "end_time": "2021-07-01T16:07:52.364433",
     "exception": false,
     "start_time": "2021-07-01T16:07:52.343696",
     "status": "completed"
    },
    "tags": []
   },
   "source": [
    "# Upvote if you like it or fork it."
   ]
  }
 ],
 "metadata": {
  "kernelspec": {
   "display_name": "Python 3",
   "language": "python",
   "name": "python3"
  },
  "language_info": {
   "codemirror_mode": {
    "name": "ipython",
    "version": 3
   },
   "file_extension": ".py",
   "mimetype": "text/x-python",
   "name": "python",
   "nbconvert_exporter": "python",
   "pygments_lexer": "ipython3",
   "version": "3.7.10"
  },
  "papermill": {
   "default_parameters": {},
   "duration": 28.985281,
   "end_time": "2021-07-01T16:07:54.037600",
   "environment_variables": {},
   "exception": null,
   "input_path": "__notebook__.ipynb",
   "output_path": "__notebook__.ipynb",
   "parameters": {},
   "start_time": "2021-07-01T16:07:25.052319",
   "version": "2.3.3"
  }
 },
 "nbformat": 4,
 "nbformat_minor": 5
}
